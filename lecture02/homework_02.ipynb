{
 "cells": [
  {
   "cell_type": "markdown",
   "metadata": {},
   "source": [
    "(lecture02:homework02)=\n",
    "# Homework 2\n",
    "\n",
    "+ Type your name and email in the \"Student details\" section below.\n",
    "+ Develop the code and generate the figures you need to solve the problems using this notebook.\n",
    "+ For the answers that require a mathematical proof or derivation you can either:\n",
    "    \n",
    "    - Type the answer using the built-in latex capabilities. In this case, simply export the notebook as a pdf and upload it on gradescope; or\n",
    "    - You can print the notebook (after you are done with all the code), write your answers by hand, scan, turn your response to a single pdf, and upload on gradescope.\n",
    "\n",
    "+ The total homework points are 100. Please note that the problems are not weighed equally.\n",
    "\n",
    "```{note}\n",
    "+ This is due before the beginning of the next lecture.\n",
    "+ Please match all the pages corresponding to each of the questions when you submit on gradescope.\n",
    "```"
   ]
  },
  {
   "cell_type": "markdown",
   "metadata": {},
   "source": [
    "## Student details\n",
    "\n",
    "+ **First Name:**\n",
    "+ **Last Name:**\n",
    "+ **Email:**"
   ]
  },
  {
   "cell_type": "markdown",
   "metadata": {},
   "source": [
    "## Problem 1 - Lists\n",
    "\n",
    "Consider the following list:"
   ]
  },
  {
   "cell_type": "code",
   "execution_count": 1,
   "metadata": {},
   "outputs": [],
   "source": [
    "data = [1, 4, 3, 10, 4, 3, 4, 4]"
   ]
  },
  {
   "cell_type": "markdown",
   "metadata": {},
   "source": [
    "Add the element 6 at the end of `data`:"
   ]
  },
  {
   "cell_type": "code",
   "execution_count": 2,
   "metadata": {},
   "outputs": [
    {
     "name": "stdout",
     "output_type": "stream",
     "text": [
      "[1, 4, 3, 10, 4, 3, 4, 4, 6]\n"
     ]
    }
   ],
   "source": [
    "data.append(6)\n",
    "print(data)"
   ]
  },
  {
   "cell_type": "markdown",
   "metadata": {},
   "source": [
    "Add the list [0, -1, 3] at the begining of `data`"
   ]
  },
  {
   "cell_type": "code",
   "execution_count": 3,
   "metadata": {},
   "outputs": [
    {
     "name": "stdout",
     "output_type": "stream",
     "text": [
      "[0, -1, 3, 1, 4, 3, 10, 4, 3, 4, 4, 6]\n"
     ]
    }
   ],
   "source": [
    "data = [0,-1,3] + data\n",
    "print(data)"
   ]
  },
  {
   "cell_type": "markdown",
   "metadata": {},
   "source": [
    "How many elements are in the `data`?"
   ]
  },
  {
   "cell_type": "code",
   "execution_count": 4,
   "metadata": {},
   "outputs": [
    {
     "name": "stdout",
     "output_type": "stream",
     "text": [
      "12\n"
     ]
    }
   ],
   "source": [
    "# your code here\n",
    "print(len(data))"
   ]
  },
  {
   "cell_type": "markdown",
   "metadata": {},
   "source": [
    "Extract all `data` elements from the second to the second to last (inclusive)."
   ]
  },
  {
   "cell_type": "code",
   "execution_count": 5,
   "metadata": {},
   "outputs": [
    {
     "name": "stdout",
     "output_type": "stream",
     "text": [
      "[-1, 3, 1, 4, 3, 10, 4, 3, 4]\n"
     ]
    }
   ],
   "source": [
    "# your code here\n",
    "print(data[1:-2])"
   ]
  },
  {
   "cell_type": "markdown",
   "metadata": {},
   "source": [
    "Extract all `data` elements from the second to the second to last (inclusive) skipping every other element."
   ]
  },
  {
   "cell_type": "code",
   "execution_count": 7,
   "metadata": {},
   "outputs": [
    {
     "name": "stdout",
     "output_type": "stream",
     "text": [
      "[-1, 1, 3, 4, 4]\n"
     ]
    }
   ],
   "source": [
    "# your code here\n",
    "print(data[1:-2:2])"
   ]
  },
  {
   "cell_type": "markdown",
   "metadata": {},
   "source": [
    "Sort the list."
   ]
  },
  {
   "cell_type": "code",
   "execution_count": 9,
   "metadata": {},
   "outputs": [
    {
     "name": "stdout",
     "output_type": "stream",
     "text": [
      "[-1, 0, 1, 3, 3, 3, 4, 4, 4, 4, 6, 10]\n"
     ]
    }
   ],
   "source": [
    "# your code here\n",
    "data.sort()\n",
    "print(data)"
   ]
  },
  {
   "cell_type": "markdown",
   "metadata": {},
   "source": [
    "Find the minimum of the list."
   ]
  },
  {
   "cell_type": "code",
   "execution_count": 10,
   "metadata": {},
   "outputs": [
    {
     "name": "stdout",
     "output_type": "stream",
     "text": [
      "-1\n"
     ]
    }
   ],
   "source": [
    "# your code here\n",
    "print (min(data))"
   ]
  },
  {
   "cell_type": "markdown",
   "metadata": {},
   "source": [
    "Find the average of the elements in the list."
   ]
  },
  {
   "cell_type": "code",
   "execution_count": 11,
   "metadata": {},
   "outputs": [
    {
     "name": "stdout",
     "output_type": "stream",
     "text": [
      "3.4166666666666665\n"
     ]
    }
   ],
   "source": [
    "# your code here\n",
    "print(sum(data)/len(data))"
   ]
  },
  {
   "cell_type": "markdown",
   "metadata": {},
   "source": [
    "## Problem 2 - Numerical Python\n",
    "\n",
    "Let's make a random array:"
   ]
  },
  {
   "cell_type": "code",
   "execution_count": 13,
   "metadata": {},
   "outputs": [
    {
     "data": {
      "text/plain": [
       "array([-2.04707659e-01,  4.78943338e-01, -5.19438715e-01, -5.55730304e-01,\n",
       "        1.96578057e+00,  1.39340583e+00,  9.29078767e-02,  2.81746153e-01,\n",
       "        7.69022568e-01,  1.24643474e+00,  1.00718936e+00, -1.29622111e+00,\n",
       "        2.74991633e-01,  2.28912879e-01,  1.35291684e+00,  8.86429341e-01,\n",
       "       -2.00163731e+00, -3.71842537e-01,  1.66902531e+00, -4.38569736e-01,\n",
       "       -5.39741446e-01,  4.76985010e-01,  3.24894392e+00, -1.02122752e+00,\n",
       "       -5.77087303e-01,  1.24121276e-01,  3.02613562e-01,  5.23772068e-01,\n",
       "        9.40277775e-04,  1.34380979e+00, -7.13543985e-01, -8.31153539e-01,\n",
       "       -2.37023165e+00, -1.86076079e+00, -8.60757398e-01,  5.60145293e-01,\n",
       "       -1.26593449e+00,  1.19827125e-01, -1.06351245e+00,  3.32882716e-01,\n",
       "       -2.35941881e+00, -1.99542955e-01, -1.54199553e+00, -9.70735912e-01,\n",
       "       -1.30703025e+00,  2.86349747e-01,  3.77984111e-01, -7.53886535e-01,\n",
       "        3.31285650e-01,  1.34974221e+00,  6.98766888e-02,  2.46674110e-01,\n",
       "       -1.18616011e-02,  1.00481159e+00,  1.32719461e+00, -9.19261558e-01,\n",
       "       -1.54910644e+00,  2.21845987e-02,  7.58363145e-01, -6.60524328e-01,\n",
       "        8.62580083e-01, -1.00319021e-02,  5.00093559e-02,  6.70215594e-01,\n",
       "        8.52965032e-01, -9.55868852e-01, -2.34933207e-02, -2.30423388e+00,\n",
       "       -6.52468841e-01, -1.21830198e+00, -1.33260971e+00,  1.07462269e+00,\n",
       "        7.23641505e-01,  6.90001853e-01,  1.00154344e+00, -5.03087391e-01,\n",
       "       -6.22274225e-01, -9.21168608e-01, -7.26213493e-01,  2.22895546e-01,\n",
       "        5.13161009e-02, -1.15771947e+00,  8.16706936e-01,  4.33609606e-01,\n",
       "        1.01073695e+00,  1.82487521e+00, -9.97518248e-01,  8.50591099e-01,\n",
       "       -1.31577601e-01,  9.12414152e-01,  1.88210680e-01,  2.16946144e+00,\n",
       "       -1.14928205e-01,  2.00369736e+00,  2.96101523e-02,  7.95253156e-01,\n",
       "        1.18109754e-01, -7.48531548e-01,  5.84969738e-01,  1.52676573e-01])"
      ]
     },
     "execution_count": 13,
     "metadata": {},
     "output_type": "execute_result"
    }
   ],
   "source": [
    "import numpy as np\n",
    "np.random.seed(12345) # We need this so that we get the same numbers\n",
    "                      # every time we runt the following code\n",
    "x = np.random.randn(100)\n",
    "x"
   ]
  },
  {
   "cell_type": "markdown",
   "metadata": {},
   "source": [
    "Find the minimum of ``x``."
   ]
  },
  {
   "cell_type": "code",
   "execution_count": 17,
   "metadata": {},
   "outputs": [
    {
     "data": {
      "text/plain": [
       "-2.3702316539567447"
      ]
     },
     "execution_count": 17,
     "metadata": {},
     "output_type": "execute_result"
    }
   ],
   "source": [
    "# your code here\n",
    "(np.amin(x))"
   ]
  },
  {
   "cell_type": "markdown",
   "metadata": {},
   "source": [
    "Find the maximum of ``x``."
   ]
  },
  {
   "cell_type": "markdown",
   "metadata": {},
   "source": [
    "Find the maximum of ``x``."
   ]
  },
  {
   "cell_type": "code",
   "execution_count": 18,
   "metadata": {},
   "outputs": [
    {
     "data": {
      "text/plain": [
       "3.248943919430755"
      ]
     },
     "execution_count": 18,
     "metadata": {},
     "output_type": "execute_result"
    }
   ],
   "source": [
    "# your code here\n",
    "np.amax(x)"
   ]
  },
  {
   "cell_type": "markdown",
   "metadata": {},
   "source": [
    "Use ``x.shape`` to get the number of elements of ``x`` as an integer."
   ]
  },
  {
   "cell_type": "code",
   "execution_count": 22,
   "metadata": {},
   "outputs": [
    {
     "data": {
      "text/plain": [
       "(100,)"
      ]
     },
     "execution_count": 22,
     "metadata": {},
     "output_type": "execute_result"
    }
   ],
   "source": [
    "# your code here\n",
    "x.shape"
   ]
  },
  {
   "cell_type": "markdown",
   "metadata": {},
   "source": [
    "Find the sum of all the elements of ``x`` divided by the number of elements of ``x``. This is the average."
   ]
  },
  {
   "cell_type": "code",
   "execution_count": 23,
   "metadata": {},
   "outputs": [
    {
     "data": {
      "text/plain": [
       "array([0.03361439])"
      ]
     },
     "execution_count": 23,
     "metadata": {},
     "output_type": "execute_result"
    }
   ],
   "source": [
    "# your code here\n",
    "np.sum(x)/x.shape"
   ]
  },
  {
   "cell_type": "markdown",
   "metadata": {},
   "source": [
    "Compare the average you found above with the result of ``x.mean()``. Are they the same?"
   ]
  },
  {
   "cell_type": "code",
   "execution_count": 31,
   "metadata": {},
   "outputs": [
    {
     "data": {
      "text/plain": [
       "0.033614388208863935"
      ]
     },
     "execution_count": 31,
     "metadata": {},
     "output_type": "execute_result"
    }
   ],
   "source": [
    "# your code here\n",
    "\n",
    "x.mean() - np.sum(x)/x.shape"
   ]
  },
  {
   "cell_type": "markdown",
   "metadata": {},
   "source": [
    "Square the elements of ``x`` and store them in a new array called ``x2``."
   ]
  },
  {
   "cell_type": "code",
   "execution_count": 28,
   "metadata": {},
   "outputs": [],
   "source": [
    "# your code here\n",
    "\n",
    "x2 = x**2"
   ]
  },
  {
   "cell_type": "markdown",
   "metadata": {},
   "source": [
    "Find the average of ``x2`` and subtract from it the square of average of ``x``."
   ]
  },
  {
   "cell_type": "code",
   "execution_count": 34,
   "metadata": {},
   "outputs": [
    {
     "data": {
      "text/plain": [
       "1.0714002155166888"
      ]
     },
     "execution_count": 34,
     "metadata": {},
     "output_type": "execute_result"
    }
   ],
   "source": [
    "# your code here\n",
    "\n",
    "x2.mean() - (x.mean())**2 "
   ]
  },
  {
   "cell_type": "markdown",
   "metadata": {},
   "source": [
    "Compare the result you found on the cell above with ``x.var()``. Are they the same? (Remark: You just calculated the empirical variance of the \"data\" ``x`` in two different ways!)"
   ]
  },
  {
   "cell_type": "code",
   "execution_count": 33,
   "metadata": {},
   "outputs": [
    {
     "data": {
      "text/plain": [
       "1.0714002155166888"
      ]
     },
     "execution_count": 33,
     "metadata": {},
     "output_type": "execute_result"
    }
   ],
   "source": [
    "# your code here\n",
    "\n",
    "x.var()"
   ]
  }
 ],
 "metadata": {
  "interpreter": {
   "hash": "34f9fed25b9f42a9751df010eaab8d1a7e365c541792f03b4329bb779b0b7258"
  },
  "kernelspec": {
   "display_name": "Python 3.10.2 64-bit",
   "language": "python",
   "name": "python3"
  },
  "language_info": {
   "codemirror_mode": {
    "name": "ipython",
    "version": 3
   },
   "file_extension": ".py",
   "mimetype": "text/x-python",
   "name": "python",
   "nbconvert_exporter": "python",
   "pygments_lexer": "ipython3",
   "version": "3.10.2"
  }
 },
 "nbformat": 4,
 "nbformat_minor": 4
}
