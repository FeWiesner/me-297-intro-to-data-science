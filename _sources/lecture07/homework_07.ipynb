{
 "cells": [
  {
   "cell_type": "markdown",
   "metadata": {},
   "source": [
    "(lecture07:homework)=\n",
    "# Homework 7\n",
    "\n",
    "+ Type your name and email in the \"Student details\" section below.\n",
    "+ Develop the code and generate the figures you need to solve the problems using this notebook.\n",
    "+ For the answers that require a mathematical proof or derivation you can either:\n",
    "    \n",
    "    - Type the answer using the built-in latex capabilities. In this case, simply export the notebook as a pdf and upload it on gradescope; or\n",
    "    - You can print the notebook (after you are done with all the code), write your answers by hand, scan, turn your response to a single pdf, and upload on gradescope.\n",
    "\n",
    "+ The total homework points are 100. Please note that the problems are not weighed equally.\n",
    "\n",
    "```{note}\n",
    "+ This is due before the beginning of the next lecture.\n",
    "+ Please match all the pages corresponding to each of the questions when you submit on gradescope.\n",
    "```"
   ]
  },
  {
   "cell_type": "code",
   "execution_count": null,
   "metadata": {
    "tags": [
     "hide-input"
    ]
   },
   "outputs": [],
   "source": [
    "# Here are some modules that you may need - please run this block of code:\n",
    "import matplotlib.pyplot as plt\n",
    "%matplotlib inline\n",
    "import seaborn as sns\n",
    "sns.set_context('paper')\n",
    "import numpy as np\n",
    "import scipy\n",
    "import scipy.stats as st\n",
    "# A helper function for downloading files\n",
    "import requests\n",
    "import os\n",
    "def download(url, local_filename=None):\n",
    "    \"\"\"\n",
    "    Downloads the file in the ``url`` and saves it in the current working directory.\n",
    "    \"\"\"\n",
    "    data = requests.get(url)\n",
    "    if local_filename is None:\n",
    "        local_filename = os.path.basename(url)\n",
    "    with open(local_filename, 'wb') as fd:\n",
    "        fd.write(data.content)"
   ]
  },
  {
   "cell_type": "markdown",
   "metadata": {},
   "source": [
    "## Student details\n",
    "\n",
    "+ **First Name:**\n",
    "+ **Last Name:**\n",
    "+ **Email:**"
   ]
  },
  {
   "cell_type": "markdown",
   "metadata": {},
   "source": [
    "## Problem 1 - Blackjack probabilities\n",
    "\n",
    "Blackjack is a popular card game.\n",
    "The background information $I$ captures the basic rules of the game relevant to this problem:\n",
    "> We have a deck of 52 cards.\n",
    "> The deck includes: Four versions aces (A); Four versions of each number from 2 to 10; Four versions of the figures J, Q, and K.\n",
    "> In blackjack all the cards are associated with a number.\n",
    "> The cards that have a number on them are associated with that number.\n",
    "> The figures J, Q, and K are associated with the number 10.\n",
    "> The aces A can either be the number 1 or the number 11.\n",
    "> The deck of cards is shuffled [adequately](https://youtu.be/AxJubaijQbI).\n",
    "\n",
    "Now consider the logical proposition $A$ (blackjack):\n",
    "> You draw two cards at random from the deck without replacement.\n",
    "> You either have two aces (AA) or the maximum sum of the numbers associated with the cards is 21.\n",
    "> For example: (10, A), (J, A), etc.\n",
    "\n",
    "### 2.A - Finding the probability of $A$ using the principle of inssuficient reason\n",
    "\n",
    "+ Find the number of ways in which you can choose two unique cards from the deck.\n",
    "Hint: Google \"N choose k\"."
   ]
  },
  {
   "cell_type": "markdown",
   "metadata": {},
   "source": [
    "**Answer:**\n",
    "\n",
    "*Your answer here.*"
   ]
  },
  {
   "cell_type": "markdown",
   "metadata": {},
   "source": [
    "+ Find the number ways in which you can get two cards that sum to 21. Hint: Enumerate all possibilities."
   ]
  },
  {
   "cell_type": "markdown",
   "metadata": {},
   "source": [
    "**Answer:**\n",
    "\n",
    "*Your answer here.*"
   ]
  },
  {
   "cell_type": "markdown",
   "metadata": {},
   "source": [
    "+ Find the probability that you pick two cards that sum to 21, i.e., find $p(A|I)$. Hint: Use the principle of insufficient reason."
   ]
  },
  {
   "cell_type": "markdown",
   "metadata": {},
   "source": [
    "**Answer:**\n",
    "\n",
    "*Your answer here.*"
   ]
  },
  {
   "cell_type": "markdown",
   "metadata": {},
   "source": [
    "### 2.B - Estimating the probability of A by simmulation\n",
    "\n",
    "In this problem, we are going to use Monte Carlo simulations to estimate the probability of picking two cards that sum to 21, i.e., $p(A|I)$.\n",
    "Basically, we are going to simulate the process of picking these two cards.\n",
    "First, let's start by making all the different cards that appear in a deck of 52.\n",
    "In what follows, I use the following conventions:\n",
    "+ 'd' stands for 'diamonds'.\n",
    "+ 'h' stands for 'hearts'.\n",
    "+ 's' stands for 'spades'.\n",
    "+ 'c' stands for 'clubs'.\n",
    "Numbers stand for themselves. And finally:\n",
    "+ 'A' for 'ace'.\n",
    "+ 'J' for 'jack'.\n",
    "+ 'Q' for 'queen'.\n",
    "+ 'K' for 'king'.\n",
    "For example, this is if you see the string '2h' then this is the 'two of hearts'.\n",
    "If you see 'Ad' this is the 'Ace of diamonds'. And so on.\n",
    "Let's make a deck of cards:"
   ]
  },
  {
   "cell_type": "code",
   "execution_count": null,
   "metadata": {},
   "outputs": [],
   "source": [
    "deck = []\n",
    "for n in ['A', '2', '3', '4', '5', '6', '7', '8', '9', '10', 'J', 'Q', 'K']:\n",
    "    for c in ['d', 'h', 's', 'c']:\n",
    "        card = n + c\n",
    "        deck.append(card)\n",
    "print(deck)"
   ]
  },
  {
   "cell_type": "markdown",
   "metadata": {},
   "source": [
    "We can use [numpy.random.shuffle](https://numpy.org/doc/stable/reference/random/generated/numpy.random.shuffle.html) to shuffle the deck in place.\n",
    "Here is how:"
   ]
  },
  {
   "cell_type": "code",
   "execution_count": null,
   "metadata": {},
   "outputs": [],
   "source": [
    "np.random.shuffle(deck)\n",
    "print(deck)"
   ]
  },
  {
   "cell_type": "markdown",
   "metadata": {},
   "source": [
    "Once the deck is shuffled, you can pick two cards at random by just picking the first two cards of the deck:"
   ]
  },
  {
   "cell_type": "code",
   "execution_count": null,
   "metadata": {},
   "outputs": [],
   "source": [
    "my_cards = deck[:2]\n",
    "print(my_cards)"
   ]
  },
  {
   "cell_type": "markdown",
   "metadata": {},
   "source": [
    "Now, let's write a function that calculates the sum of the cards.\n",
    "I wrote the function so that it only works with two cards.\n",
    "It will always use 11 for aces."
   ]
  },
  {
   "cell_type": "code",
   "execution_count": null,
   "metadata": {},
   "outputs": [],
   "source": [
    "def count_cards(cards):\n",
    "    \"\"\"\n",
    "    Counts cards according to blackjack conventions.\n",
    "    \n",
    "    Arguments:\n",
    "    cards   -   Two cards. They much be a string from a deck.\n",
    "    \n",
    "    Returns: The blackjack value of the cards.\n",
    "    \"\"\"\n",
    "    assert len(cards) == 2, 'This only works for two cards.'\n",
    "    s = 0\n",
    "    for c in cards:\n",
    "        n = c[0]\n",
    "        if n == 'A':\n",
    "            s += 11\n",
    "        elif n == 'J' or n == 'Q' or n == 'K':\n",
    "            s += 10\n",
    "        elif len(c) == 3: # this is the case of '10d', '10h', etc.\n",
    "            s += 10\n",
    "        else:\n",
    "            s += int(n)\n",
    "    return s"
   ]
  },
  {
   "cell_type": "markdown",
   "metadata": {},
   "source": [
    "Let's test it a few times:"
   ]
  },
  {
   "cell_type": "code",
   "execution_count": null,
   "metadata": {},
   "outputs": [],
   "source": [
    "print(my_cards)\n",
    "print(count_cards(my_cards))"
   ]
  },
  {
   "cell_type": "markdown",
   "metadata": {},
   "source": [
    "Do it ten times at random:"
   ]
  },
  {
   "cell_type": "code",
   "execution_count": null,
   "metadata": {},
   "outputs": [],
   "source": [
    "for i in range(10):\n",
    "    np.random.shuffle(deck)\n",
    "    my_cards = deck[:2]\n",
    "    sum_of_cards = count_cards(my_cards)\n",
    "    print(my_cards, ' sum to: ', sum_of_cards)"
   ]
  },
  {
   "cell_type": "markdown",
   "metadata": {},
   "source": [
    "+ Now, we have everything we need. Complete the following code which use the Monte Carlo method to estimate the probability of randomly picking two cards that sum to 21.\n",
    "Feel free to experiment with the number of simulations so that you get an accurate estimate."
   ]
  },
  {
   "cell_type": "code",
   "execution_count": null,
   "metadata": {},
   "outputs": [],
   "source": [
    "# The number of experiments you want to simulate\n",
    "num_exp = 1000\n",
    "# This is a list in which we are going to put the result\n",
    "# of each \"experiment\". We will record a 1 (one) if the experiment\n",
    "# is successful (cards sum to 21) and a 0 (zero) otherwise\n",
    "result = []\n",
    "# Loop over experiments\n",
    "for i in range(num_exp):\n",
    "    # YOUR CODE HERE (shuffle the deck)\n",
    "    my_cards = # YOUR CODE HERE (pick the first two cards from the deck)\n",
    "    sum_of_cards = # YOUR CODE HERE (find the sum of the cards)\n",
    "    # YOUR CODE HERE (write a conditional statement that appends 1\n",
    "    #                 to result if the sum of cards is 21 and 0 otherwise)\n",
    "p_A_g_I = # YOUR CODE HERE (use result to estimate the probability of getting two\n",
    "        #                 cards that sum to 21)\n",
    "print('p(A|I) ~= {0:1.5f}'.format(p_A_g_I))"
   ]
  },
  {
   "cell_type": "markdown",
   "metadata": {},
   "source": [
    "+ Plot the estimate of $p(A|I)$ as a function of the number of experiments. In the same plot, use a red dashed line to mark the true value of $p(A|I)$ based on your answer to the very first question. Hint: See the discussion at the very end of {ref}`lecture07:estimating-probabilities-simulation`."
   ]
  },
  {
   "cell_type": "code",
   "execution_count": null,
   "metadata": {},
   "outputs": [],
   "source": [
    "# Your code here"
   ]
  },
  {
   "cell_type": "markdown",
   "metadata": {},
   "source": [
    "(lecture07:homework:problem2)=\n",
    "## Problem 2 - Predicting the probability of major earthquakes in Southern California\n",
    "\n",
    "We will use the [Southern California Earthquake Data Center catalog](https://scedc.caltech.edu/data/cloud.html#eq-catalog) in this problem.\n",
    "The catalog contains all earthquakes recorded from 1932 until now in Southern California.\n",
    "Do not worry about how I get the data. Just run the code and it will produce a nice dataframe that you can play with.\n",
    "Our goal is to estimate the probability of a major earthquake (to be defined below) somewhere in Southern California during a given year.\n",
    "\n",
    "First, let's download the data and put them in a dataframe."
   ]
  },
  {
   "cell_type": "code",
   "execution_count": null,
   "metadata": {},
   "outputs": [],
   "source": [
    "for year in range(1932, 2021):\n",
    "    print('Downloading year', year)\n",
    "    url = 'https://raw.githubusercontent.com/SCEDC/SCEDC-catalogs/master/SCEC_DC/{0:d}.catalog'.format(year)\n",
    "    download(url)"
   ]
  },
  {
   "cell_type": "markdown",
   "metadata": {},
   "source": [
    "Each one of these is a csv file.\n",
    "We will put them all in the same daframe for your convenience:"
   ]
  },
  {
   "cell_type": "code",
   "execution_count": null,
   "metadata": {},
   "outputs": [],
   "source": [
    "import pandas as pd\n",
    "list_of_dfs = []\n",
    "for year in range(1932, 2021):\n",
    "    print('Reading: ', filename)\n",
    "    filename = '{0:d}.catalog'.format(year)\n",
    "    df_year = pd.read_csv(filename, delim_whitespace=True, comment='#',\n",
    "                      names=['Date', 'Hour', 'ET', 'GT', 'MAG', 'M', 'LAT', 'LON',\n",
    "                               'DEPTH', 'Q', 'EVID', 'NPH', 'NGRM'])\n",
    "    df_year.Date = pd.to_datetime(df_year['Date'], format='%Y/%m/%d')\n",
    "    list_of_dfs.append(df_year)\n",
    "df = pd.concat(list_of_dfs, ignore_index=True)\n",
    "df['Year'] = pd.DatetimeIndex(df['Date']).year"
   ]
  },
  {
   "cell_type": "code",
   "execution_count": null,
   "metadata": {},
   "outputs": [],
   "source": [
    "df"
   ]
  },
  {
   "cell_type": "markdown",
   "metadata": {},
   "source": [
    "Each row in this dataframe corresponds to an earthquake event that happened between 1/1/1932 and 12/31/2020. The meaning of the columns is explained [here](https://service.scedc.caltech.edu/ftp/catalogs/SCEC_DC/README).\n",
    "But for the purposes of this problem we will only need information from the following columns:\n",
    "+ Year: This is the year of the event.\n",
    "+ ET: This is the type of the event. There are various types of events. For example, the seismometers may pick more than earthquakes, e.g., explosions. We are only intersted in earthquake events which are labeled by `eq`.\n",
    "+ MAG: This is the magnitude of the event.\n",
    "\n",
    "Let's play with the data set to gain some experience.\n",
    "First, let's extract all data for a random year.\n",
    "Say, year 2019."
   ]
  },
  {
   "cell_type": "code",
   "execution_count": null,
   "metadata": {},
   "outputs": [],
   "source": [
    "df_2019 = df[df['Year'] == 2019]\n",
    "df_2019"
   ]
  },
  {
   "cell_type": "markdown",
   "metadata": {},
   "source": [
    "Out of these, we only care about earthquake events.\n",
    "So, let's filter out everything else:"
   ]
  },
  {
   "cell_type": "code",
   "execution_count": null,
   "metadata": {},
   "outputs": [],
   "source": [
    "df_2019_eq = df_2019[df_2019['ET'] == 'eq']\n",
    "df_2019_eq"
   ]
  },
  {
   "cell_type": "markdown",
   "metadata": {},
   "source": [
    "Now, let's see if there was at least one major earthquake during 2019:"
   ]
  },
  {
   "cell_type": "code",
   "execution_count": null,
   "metadata": {},
   "outputs": [],
   "source": [
    "test_mag = df_2019_eq['MAG'] >= 6\n",
    "test_mag"
   ]
  },
  {
   "cell_type": "markdown",
   "metadata": {},
   "source": [
    "Is there at least one True value in this array?"
   ]
  },
  {
   "cell_type": "code",
   "execution_count": null,
   "metadata": {},
   "outputs": [],
   "source": [
    "test_mag.value_counts()"
   ]
  },
  {
   "cell_type": "markdown",
   "metadata": {},
   "source": [
    "There are exactly 5 major earthquakes.\n",
    "You can extract the number like this:"
   ]
  },
  {
   "cell_type": "code",
   "execution_count": null,
   "metadata": {},
   "outputs": [],
   "source": [
    "test_mag.value_counts()[True]"
   ]
  },
  {
   "cell_type": "markdown",
   "metadata": {},
   "source": [
    "So, to test whether or not there was a major earthquake you need to do:"
   ]
  },
  {
   "cell_type": "code",
   "execution_count": null,
   "metadata": {},
   "outputs": [],
   "source": [
    "True in test_mag.value_counts().keys()"
   ]
  },
  {
   "cell_type": "markdown",
   "metadata": {},
   "source": [
    "+ Now, we will use bootstrapping to estimate the probability of a major earthquake during a randomly picked year.\n",
    "Follow the instructions below completing the code where necessary."
   ]
  },
  {
   "cell_type": "code",
   "execution_count": null,
   "metadata": {},
   "outputs": [],
   "source": [
    "def estimate_probability_of_major_earthquake_during_year(num_years, df):\n",
    "    \"\"\"\n",
    "    Estimate the probability of major earthquake in a random year.\n",
    "    \n",
    "    Arguments:\n",
    "    num_years    -    The number of years to pick at random.\n",
    "    df           -    The dataframe containing all the observed events.\n",
    "    \n",
    "    Returns: The number of years in which we had at least one major earthquake divided by the num_years.\n",
    "    \"\"\"\n",
    "    num_major_eqs = 0\n",
    "    for i in range(num_years):\n",
    "        # Pick a year at random between 1932 and 2020\n",
    "        y = np.random.randint(1932, 2021)\n",
    "        # Extract all the events that happened in that year\n",
    "        df_y = # YOUR CODE HERE\n",
    "        # Find all earthquake events\n",
    "        df_y_eq = # YOUR CODE HERE\n",
    "        # Test if there is at least one major earthquake in this year\n",
    "        test_mag = # YOUR CODE HERE\n",
    "        test_mag_counts = test_mag.value_counts()\n",
    "        # Test if there is at least one major event in this year\n",
    "        # and increase num_major_eqs by one if yes\n",
    "        if True in test_mag.value_counts():\n",
    "            num_major_eqs += 1\n",
    "    return num_major_eqs / num_years"
   ]
  },
  {
   "cell_type": "markdown",
   "metadata": {},
   "source": [
    "Use the following lines to test your code.\n",
    "We run it 10 times. Notice that everytime you get a slighlty different estimate."
   ]
  },
  {
   "cell_type": "code",
   "execution_count": null,
   "metadata": {},
   "outputs": [],
   "source": [
    "for i in range(10):\n",
    "    p_major_eq = estimate_probability_of_major_earthquake_during_year(50, df)\n",
    "    print('p_major_eq = {0:1.2f}'.format(p_major_eq))"
   ]
  },
  {
   "cell_type": "markdown",
   "metadata": {},
   "source": [
    "+ Repeat the probability estimation above 200 times, store all estimates in a list, and do a histogram of the estimates. Hint: Replicate what we did at the very end of {ref}`lecture07:estimating-probabilities-from-data`."
   ]
  },
  {
   "cell_type": "code",
   "execution_count": null,
   "metadata": {},
   "outputs": [],
   "source": [
    "# A place to store the estimates\n",
    "p_major_eqs = []\n",
    "# Put 1000 estimates in there\n",
    "for i in range(200):\n",
    "    print(i)\n",
    "    p_major_eq = # your code here\n",
    "    p_major_eqs.append(p_major_eq)\n",
    "# And now do the histogram\n",
    "# Your code here"
   ]
  }
 ],
 "metadata": {
  "celltoolbar": "Tags",
  "kernelspec": {
   "display_name": "Python 3",
   "language": "python",
   "name": "python3"
  },
  "language_info": {
   "codemirror_mode": {
    "name": "ipython",
    "version": 3
   },
   "file_extension": ".py",
   "mimetype": "text/x-python",
   "name": "python",
   "nbconvert_exporter": "python",
   "pygments_lexer": "ipython3",
   "version": "3.8.8"
  }
 },
 "nbformat": 4,
 "nbformat_minor": 4
}
